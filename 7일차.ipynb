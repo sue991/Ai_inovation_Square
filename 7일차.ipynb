{
 "cells": [
  {
   "cell_type": "code",
   "execution_count": 11,
   "metadata": {},
   "outputs": [],
   "source": [
    "def foo():\n",
    "    print('foo!')"
   ]
  },
  {
   "cell_type": "code",
   "execution_count": 12,
   "metadata": {},
   "outputs": [],
   "source": [
    "def bar(fn):\n",
    "    fn()"
   ]
  },
  {
   "cell_type": "code",
   "execution_count": 13,
   "metadata": {},
   "outputs": [
    {
     "name": "stdout",
     "output_type": "stream",
     "text": [
      "foo!\n"
     ]
    }
   ],
   "source": [
    "bar(foo)"
   ]
  },
  {
   "cell_type": "code",
   "execution_count": 20,
   "metadata": {},
   "outputs": [],
   "source": [
    "a = [dir, len]"
   ]
  },
  {
   "cell_type": "code",
   "execution_count": 21,
   "metadata": {},
   "outputs": [
    {
     "data": {
      "text/plain": [
       "['In',\n",
       " 'Out',\n",
       " '_',\n",
       " '_10',\n",
       " '_15',\n",
       " '_17',\n",
       " '__',\n",
       " '___',\n",
       " '__builtin__',\n",
       " '__builtins__',\n",
       " '__doc__',\n",
       " '__loader__',\n",
       " '__name__',\n",
       " '__package__',\n",
       " '__spec__',\n",
       " '_dh',\n",
       " '_i',\n",
       " '_i1',\n",
       " '_i10',\n",
       " '_i11',\n",
       " '_i12',\n",
       " '_i13',\n",
       " '_i14',\n",
       " '_i15',\n",
       " '_i16',\n",
       " '_i17',\n",
       " '_i18',\n",
       " '_i19',\n",
       " '_i2',\n",
       " '_i20',\n",
       " '_i21',\n",
       " '_i3',\n",
       " '_i4',\n",
       " '_i5',\n",
       " '_i6',\n",
       " '_i7',\n",
       " '_i8',\n",
       " '_i9',\n",
       " '_ih',\n",
       " '_ii',\n",
       " '_iii',\n",
       " '_oh',\n",
       " 'a',\n",
       " 'bar',\n",
       " 'exit',\n",
       " 'foo',\n",
       " 'get_ipython',\n",
       " 'quit',\n",
       " 's',\n",
       " 'x']"
      ]
     },
     "execution_count": 21,
     "metadata": {},
     "output_type": "execute_result"
    }
   ],
   "source": [
    "a[0]()"
   ]
  },
  {
   "cell_type": "markdown",
   "metadata": {},
   "source": [
    "## high other 이면 first class 이다"
   ]
  },
  {
   "cell_type": "code",
   "execution_count": 23,
   "metadata": {},
   "outputs": [],
   "source": [
    "def foo():\n",
    "    def bar():\n",
    "        print('bar!')\n",
    "    bar()"
   ]
  },
  {
   "cell_type": "code",
   "execution_count": 24,
   "metadata": {},
   "outputs": [
    {
     "name": "stdout",
     "output_type": "stream",
     "text": [
      "bar!\n"
     ]
    }
   ],
   "source": [
    "foo()"
   ]
  },
  {
   "cell_type": "code",
   "execution_count": 35,
   "metadata": {},
   "outputs": [],
   "source": [
    "\n",
    "def x():\n",
    "    def y():\n",
    "        t = 1\n",
    "        print(t)\n",
    "\n",
    "    return y()"
   ]
  },
  {
   "cell_type": "code",
   "execution_count": 36,
   "metadata": {},
   "outputs": [
    {
     "name": "stdout",
     "output_type": "stream",
     "text": [
      "1\n"
     ]
    }
   ],
   "source": [
    "x()"
   ]
  },
  {
   "cell_type": "code",
   "execution_count": 38,
   "metadata": {},
   "outputs": [
    {
     "data": {
      "text/plain": [
       "{'__name__': '__main__',\n",
       " '__doc__': 'Automatically created module for IPython interactive environment',\n",
       " '__package__': None,\n",
       " '__loader__': None,\n",
       " '__spec__': None,\n",
       " '__builtin__': <module 'builtins' (built-in)>,\n",
       " '__builtins__': <module 'builtins' (built-in)>,\n",
       " '_ih': ['',\n",
       "  'def x(t):\\n    return t',\n",
       "  'def x(t):\\n    return t()',\n",
       "  'def x(1)',\n",
       "  'def x(x)',\n",
       "  'x()',\n",
       "  'x(1)',\n",
       "  'x(x)',\n",
       "  'def s():\\n    return 1',\n",
       "  'def s():\\n    return 1',\n",
       "  'x(s)',\n",
       "  \"def foo():\\n    print('foo!')\",\n",
       "  'def bar(fn):\\n    fn()',\n",
       "  'bar(foo)',\n",
       "  'a = [dir, len]',\n",
       "  'a[1]',\n",
       "  'a = [bar, len]',\n",
       "  'a[1]',\n",
       "  'a[0]()',\n",
       "  'a[0](foo)',\n",
       "  'a = [dir, len]',\n",
       "  'a[0]()',\n",
       "  \"def foo()\\n    def bar():\\n        print('bar!')\\n    bar()\",\n",
       "  \"def foo():\\n    def bar():\\n        print('bar!')\\n    bar()\",\n",
       "  'foo()',\n",
       "  'def x():\\n    def y():\\n        return t\\n    return y()',\n",
       "  'x()',\n",
       "  'def x():\\n    def y():\\n        print(t)\\n    return y()',\n",
       "  'x()',\n",
       "  'def x():\\n    def y():\\n        print(t)\\n        t = 1\\n    return y()',\n",
       "  'x()',\n",
       "  'def x():\\n    t = 1\\n    def y():\\n        print(t)\\n\\n    return y()',\n",
       "  'x()',\n",
       "  't = 1\\ndef x():\\n\\n    def y():\\n        print(t)\\n\\n    return y()',\n",
       "  'x()',\n",
       "  '\\ndef x():\\n    def y():\\n        t = 1\\n        print(t)\\n\\n    return y()',\n",
       "  'x()',\n",
       "  'globals',\n",
       "  'globals()'],\n",
       " '_oh': {10: 1,\n",
       "  15: <function len(obj, /)>,\n",
       "  17: <function len(obj, /)>,\n",
       "  21: ['In',\n",
       "   'Out',\n",
       "   '_',\n",
       "   '_10',\n",
       "   '_15',\n",
       "   '_17',\n",
       "   '__',\n",
       "   '___',\n",
       "   '__builtin__',\n",
       "   '__builtins__',\n",
       "   '__doc__',\n",
       "   '__loader__',\n",
       "   '__name__',\n",
       "   '__package__',\n",
       "   '__spec__',\n",
       "   '_dh',\n",
       "   '_i',\n",
       "   '_i1',\n",
       "   '_i10',\n",
       "   '_i11',\n",
       "   '_i12',\n",
       "   '_i13',\n",
       "   '_i14',\n",
       "   '_i15',\n",
       "   '_i16',\n",
       "   '_i17',\n",
       "   '_i18',\n",
       "   '_i19',\n",
       "   '_i2',\n",
       "   '_i20',\n",
       "   '_i21',\n",
       "   '_i3',\n",
       "   '_i4',\n",
       "   '_i5',\n",
       "   '_i6',\n",
       "   '_i7',\n",
       "   '_i8',\n",
       "   '_i9',\n",
       "   '_ih',\n",
       "   '_ii',\n",
       "   '_iii',\n",
       "   '_oh',\n",
       "   'a',\n",
       "   'bar',\n",
       "   'exit',\n",
       "   'foo',\n",
       "   'get_ipython',\n",
       "   'quit',\n",
       "   's',\n",
       "   'x'],\n",
       "  37: <function globals()>},\n",
       " '_dh': ['/Users/sua'],\n",
       " 'In': ['',\n",
       "  'def x(t):\\n    return t',\n",
       "  'def x(t):\\n    return t()',\n",
       "  'def x(1)',\n",
       "  'def x(x)',\n",
       "  'x()',\n",
       "  'x(1)',\n",
       "  'x(x)',\n",
       "  'def s():\\n    return 1',\n",
       "  'def s():\\n    return 1',\n",
       "  'x(s)',\n",
       "  \"def foo():\\n    print('foo!')\",\n",
       "  'def bar(fn):\\n    fn()',\n",
       "  'bar(foo)',\n",
       "  'a = [dir, len]',\n",
       "  'a[1]',\n",
       "  'a = [bar, len]',\n",
       "  'a[1]',\n",
       "  'a[0]()',\n",
       "  'a[0](foo)',\n",
       "  'a = [dir, len]',\n",
       "  'a[0]()',\n",
       "  \"def foo()\\n    def bar():\\n        print('bar!')\\n    bar()\",\n",
       "  \"def foo():\\n    def bar():\\n        print('bar!')\\n    bar()\",\n",
       "  'foo()',\n",
       "  'def x():\\n    def y():\\n        return t\\n    return y()',\n",
       "  'x()',\n",
       "  'def x():\\n    def y():\\n        print(t)\\n    return y()',\n",
       "  'x()',\n",
       "  'def x():\\n    def y():\\n        print(t)\\n        t = 1\\n    return y()',\n",
       "  'x()',\n",
       "  'def x():\\n    t = 1\\n    def y():\\n        print(t)\\n\\n    return y()',\n",
       "  'x()',\n",
       "  't = 1\\ndef x():\\n\\n    def y():\\n        print(t)\\n\\n    return y()',\n",
       "  'x()',\n",
       "  '\\ndef x():\\n    def y():\\n        t = 1\\n        print(t)\\n\\n    return y()',\n",
       "  'x()',\n",
       "  'globals',\n",
       "  'globals()'],\n",
       " 'Out': {10: 1,\n",
       "  15: <function len(obj, /)>,\n",
       "  17: <function len(obj, /)>,\n",
       "  21: ['In',\n",
       "   'Out',\n",
       "   '_',\n",
       "   '_10',\n",
       "   '_15',\n",
       "   '_17',\n",
       "   '__',\n",
       "   '___',\n",
       "   '__builtin__',\n",
       "   '__builtins__',\n",
       "   '__doc__',\n",
       "   '__loader__',\n",
       "   '__name__',\n",
       "   '__package__',\n",
       "   '__spec__',\n",
       "   '_dh',\n",
       "   '_i',\n",
       "   '_i1',\n",
       "   '_i10',\n",
       "   '_i11',\n",
       "   '_i12',\n",
       "   '_i13',\n",
       "   '_i14',\n",
       "   '_i15',\n",
       "   '_i16',\n",
       "   '_i17',\n",
       "   '_i18',\n",
       "   '_i19',\n",
       "   '_i2',\n",
       "   '_i20',\n",
       "   '_i21',\n",
       "   '_i3',\n",
       "   '_i4',\n",
       "   '_i5',\n",
       "   '_i6',\n",
       "   '_i7',\n",
       "   '_i8',\n",
       "   '_i9',\n",
       "   '_ih',\n",
       "   '_ii',\n",
       "   '_iii',\n",
       "   '_oh',\n",
       "   'a',\n",
       "   'bar',\n",
       "   'exit',\n",
       "   'foo',\n",
       "   'get_ipython',\n",
       "   'quit',\n",
       "   's',\n",
       "   'x'],\n",
       "  37: <function globals()>},\n",
       " 'get_ipython': <bound method InteractiveShell.get_ipython of <ipykernel.zmqshell.ZMQInteractiveShell object at 0x10a8416a0>>,\n",
       " 'exit': <IPython.core.autocall.ZMQExitAutocall at 0x10ad22c50>,\n",
       " 'quit': <IPython.core.autocall.ZMQExitAutocall at 0x10ad22c50>,\n",
       " '_': <function globals()>,\n",
       " '__': ['In',\n",
       "  'Out',\n",
       "  '_',\n",
       "  '_10',\n",
       "  '_15',\n",
       "  '_17',\n",
       "  '__',\n",
       "  '___',\n",
       "  '__builtin__',\n",
       "  '__builtins__',\n",
       "  '__doc__',\n",
       "  '__loader__',\n",
       "  '__name__',\n",
       "  '__package__',\n",
       "  '__spec__',\n",
       "  '_dh',\n",
       "  '_i',\n",
       "  '_i1',\n",
       "  '_i10',\n",
       "  '_i11',\n",
       "  '_i12',\n",
       "  '_i13',\n",
       "  '_i14',\n",
       "  '_i15',\n",
       "  '_i16',\n",
       "  '_i17',\n",
       "  '_i18',\n",
       "  '_i19',\n",
       "  '_i2',\n",
       "  '_i20',\n",
       "  '_i21',\n",
       "  '_i3',\n",
       "  '_i4',\n",
       "  '_i5',\n",
       "  '_i6',\n",
       "  '_i7',\n",
       "  '_i8',\n",
       "  '_i9',\n",
       "  '_ih',\n",
       "  '_ii',\n",
       "  '_iii',\n",
       "  '_oh',\n",
       "  'a',\n",
       "  'bar',\n",
       "  'exit',\n",
       "  'foo',\n",
       "  'get_ipython',\n",
       "  'quit',\n",
       "  's',\n",
       "  'x'],\n",
       " '___': <function len(obj, /)>,\n",
       " '_i': 'globals',\n",
       " '_ii': 'x()',\n",
       " '_iii': '\\ndef x():\\n    def y():\\n        t = 1\\n        print(t)\\n\\n    return y()',\n",
       " '_i1': 'def x(t):\\n    return t',\n",
       " 'x': <function __main__.x()>,\n",
       " '_i2': 'def x(t):\\n    return t()',\n",
       " '_i3': 'def x(1)',\n",
       " '_i4': 'def x(x)',\n",
       " '_i5': 'x()',\n",
       " '_i6': 'x(1)',\n",
       " '_i7': 'x(x)',\n",
       " '_i8': 'def s():\\n    return 1',\n",
       " 's': <function __main__.s()>,\n",
       " '_i9': 'def s():\\n    return 1',\n",
       " '_i10': 'x(s)',\n",
       " '_10': 1,\n",
       " '_i11': \"def foo():\\n    print('foo!')\",\n",
       " 'foo': <function __main__.foo()>,\n",
       " '_i12': 'def bar(fn):\\n    fn()',\n",
       " 'bar': <function __main__.bar(fn)>,\n",
       " '_i13': 'bar(foo)',\n",
       " '_i14': 'a = [dir, len]',\n",
       " 'a': [<function dir>, <function len(obj, /)>],\n",
       " '_i15': 'a[1]',\n",
       " '_15': <function len(obj, /)>,\n",
       " '_i16': 'a = [bar, len]',\n",
       " '_i17': 'a[1]',\n",
       " '_17': <function len(obj, /)>,\n",
       " '_i18': 'a[0]()',\n",
       " '_i19': 'a[0](foo)',\n",
       " '_i20': 'a = [dir, len]',\n",
       " '_i21': 'a[0]()',\n",
       " '_21': ['In',\n",
       "  'Out',\n",
       "  '_',\n",
       "  '_10',\n",
       "  '_15',\n",
       "  '_17',\n",
       "  '__',\n",
       "  '___',\n",
       "  '__builtin__',\n",
       "  '__builtins__',\n",
       "  '__doc__',\n",
       "  '__loader__',\n",
       "  '__name__',\n",
       "  '__package__',\n",
       "  '__spec__',\n",
       "  '_dh',\n",
       "  '_i',\n",
       "  '_i1',\n",
       "  '_i10',\n",
       "  '_i11',\n",
       "  '_i12',\n",
       "  '_i13',\n",
       "  '_i14',\n",
       "  '_i15',\n",
       "  '_i16',\n",
       "  '_i17',\n",
       "  '_i18',\n",
       "  '_i19',\n",
       "  '_i2',\n",
       "  '_i20',\n",
       "  '_i21',\n",
       "  '_i3',\n",
       "  '_i4',\n",
       "  '_i5',\n",
       "  '_i6',\n",
       "  '_i7',\n",
       "  '_i8',\n",
       "  '_i9',\n",
       "  '_ih',\n",
       "  '_ii',\n",
       "  '_iii',\n",
       "  '_oh',\n",
       "  'a',\n",
       "  'bar',\n",
       "  'exit',\n",
       "  'foo',\n",
       "  'get_ipython',\n",
       "  'quit',\n",
       "  's',\n",
       "  'x'],\n",
       " '_i22': \"def foo()\\n    def bar():\\n        print('bar!')\\n    bar()\",\n",
       " '_i23': \"def foo():\\n    def bar():\\n        print('bar!')\\n    bar()\",\n",
       " '_i24': 'foo()',\n",
       " '_i25': 'def x():\\n    def y():\\n        return t\\n    return y()',\n",
       " '_i26': 'x()',\n",
       " '_i27': 'def x():\\n    def y():\\n        print(t)\\n    return y()',\n",
       " '_i28': 'x()',\n",
       " '_i29': 'def x():\\n    def y():\\n        print(t)\\n        t = 1\\n    return y()',\n",
       " '_i30': 'x()',\n",
       " '_i31': 'def x():\\n    t = 1\\n    def y():\\n        print(t)\\n\\n    return y()',\n",
       " '_i32': 'x()',\n",
       " '_i33': 't = 1\\ndef x():\\n\\n    def y():\\n        print(t)\\n\\n    return y()',\n",
       " 't': 1,\n",
       " '_i34': 'x()',\n",
       " '_i35': '\\ndef x():\\n    def y():\\n        t = 1\\n        print(t)\\n\\n    return y()',\n",
       " '_i36': 'x()',\n",
       " '_i37': 'globals',\n",
       " '_37': <function globals()>,\n",
       " '_i38': 'globals()'}"
      ]
     },
     "execution_count": 38,
     "metadata": {},
     "output_type": "execute_result"
    }
   ],
   "source": [
    "globals()"
   ]
  },
  {
   "cell_type": "code",
   "execution_count": 39,
   "metadata": {},
   "outputs": [
    {
     "data": {
      "text/plain": [
       "{'__name__': '__main__',\n",
       " '__doc__': 'Automatically created module for IPython interactive environment',\n",
       " '__package__': None,\n",
       " '__loader__': None,\n",
       " '__spec__': None,\n",
       " '__builtin__': <module 'builtins' (built-in)>,\n",
       " '__builtins__': <module 'builtins' (built-in)>,\n",
       " '_ih': ['',\n",
       "  'def x(t):\\n    return t',\n",
       "  'def x(t):\\n    return t()',\n",
       "  'def x(1)',\n",
       "  'def x(x)',\n",
       "  'x()',\n",
       "  'x(1)',\n",
       "  'x(x)',\n",
       "  'def s():\\n    return 1',\n",
       "  'def s():\\n    return 1',\n",
       "  'x(s)',\n",
       "  \"def foo():\\n    print('foo!')\",\n",
       "  'def bar(fn):\\n    fn()',\n",
       "  'bar(foo)',\n",
       "  'a = [dir, len]',\n",
       "  'a[1]',\n",
       "  'a = [bar, len]',\n",
       "  'a[1]',\n",
       "  'a[0]()',\n",
       "  'a[0](foo)',\n",
       "  'a = [dir, len]',\n",
       "  'a[0]()',\n",
       "  \"def foo()\\n    def bar():\\n        print('bar!')\\n    bar()\",\n",
       "  \"def foo():\\n    def bar():\\n        print('bar!')\\n    bar()\",\n",
       "  'foo()',\n",
       "  'def x():\\n    def y():\\n        return t\\n    return y()',\n",
       "  'x()',\n",
       "  'def x():\\n    def y():\\n        print(t)\\n    return y()',\n",
       "  'x()',\n",
       "  'def x():\\n    def y():\\n        print(t)\\n        t = 1\\n    return y()',\n",
       "  'x()',\n",
       "  'def x():\\n    t = 1\\n    def y():\\n        print(t)\\n\\n    return y()',\n",
       "  'x()',\n",
       "  't = 1\\ndef x():\\n\\n    def y():\\n        print(t)\\n\\n    return y()',\n",
       "  'x()',\n",
       "  '\\ndef x():\\n    def y():\\n        t = 1\\n        print(t)\\n\\n    return y()',\n",
       "  'x()',\n",
       "  'globals',\n",
       "  'globals()',\n",
       "  'locals()'],\n",
       " '_oh': {10: 1,\n",
       "  15: <function len(obj, /)>,\n",
       "  17: <function len(obj, /)>,\n",
       "  21: ['In',\n",
       "   'Out',\n",
       "   '_',\n",
       "   '_10',\n",
       "   '_15',\n",
       "   '_17',\n",
       "   '__',\n",
       "   '___',\n",
       "   '__builtin__',\n",
       "   '__builtins__',\n",
       "   '__doc__',\n",
       "   '__loader__',\n",
       "   '__name__',\n",
       "   '__package__',\n",
       "   '__spec__',\n",
       "   '_dh',\n",
       "   '_i',\n",
       "   '_i1',\n",
       "   '_i10',\n",
       "   '_i11',\n",
       "   '_i12',\n",
       "   '_i13',\n",
       "   '_i14',\n",
       "   '_i15',\n",
       "   '_i16',\n",
       "   '_i17',\n",
       "   '_i18',\n",
       "   '_i19',\n",
       "   '_i2',\n",
       "   '_i20',\n",
       "   '_i21',\n",
       "   '_i3',\n",
       "   '_i4',\n",
       "   '_i5',\n",
       "   '_i6',\n",
       "   '_i7',\n",
       "   '_i8',\n",
       "   '_i9',\n",
       "   '_ih',\n",
       "   '_ii',\n",
       "   '_iii',\n",
       "   '_oh',\n",
       "   'a',\n",
       "   'bar',\n",
       "   'exit',\n",
       "   'foo',\n",
       "   'get_ipython',\n",
       "   'quit',\n",
       "   's',\n",
       "   'x'],\n",
       "  37: <function globals()>,\n",
       "  38: {...}},\n",
       " '_dh': ['/Users/sua'],\n",
       " 'In': ['',\n",
       "  'def x(t):\\n    return t',\n",
       "  'def x(t):\\n    return t()',\n",
       "  'def x(1)',\n",
       "  'def x(x)',\n",
       "  'x()',\n",
       "  'x(1)',\n",
       "  'x(x)',\n",
       "  'def s():\\n    return 1',\n",
       "  'def s():\\n    return 1',\n",
       "  'x(s)',\n",
       "  \"def foo():\\n    print('foo!')\",\n",
       "  'def bar(fn):\\n    fn()',\n",
       "  'bar(foo)',\n",
       "  'a = [dir, len]',\n",
       "  'a[1]',\n",
       "  'a = [bar, len]',\n",
       "  'a[1]',\n",
       "  'a[0]()',\n",
       "  'a[0](foo)',\n",
       "  'a = [dir, len]',\n",
       "  'a[0]()',\n",
       "  \"def foo()\\n    def bar():\\n        print('bar!')\\n    bar()\",\n",
       "  \"def foo():\\n    def bar():\\n        print('bar!')\\n    bar()\",\n",
       "  'foo()',\n",
       "  'def x():\\n    def y():\\n        return t\\n    return y()',\n",
       "  'x()',\n",
       "  'def x():\\n    def y():\\n        print(t)\\n    return y()',\n",
       "  'x()',\n",
       "  'def x():\\n    def y():\\n        print(t)\\n        t = 1\\n    return y()',\n",
       "  'x()',\n",
       "  'def x():\\n    t = 1\\n    def y():\\n        print(t)\\n\\n    return y()',\n",
       "  'x()',\n",
       "  't = 1\\ndef x():\\n\\n    def y():\\n        print(t)\\n\\n    return y()',\n",
       "  'x()',\n",
       "  '\\ndef x():\\n    def y():\\n        t = 1\\n        print(t)\\n\\n    return y()',\n",
       "  'x()',\n",
       "  'globals',\n",
       "  'globals()',\n",
       "  'locals()'],\n",
       " 'Out': {10: 1,\n",
       "  15: <function len(obj, /)>,\n",
       "  17: <function len(obj, /)>,\n",
       "  21: ['In',\n",
       "   'Out',\n",
       "   '_',\n",
       "   '_10',\n",
       "   '_15',\n",
       "   '_17',\n",
       "   '__',\n",
       "   '___',\n",
       "   '__builtin__',\n",
       "   '__builtins__',\n",
       "   '__doc__',\n",
       "   '__loader__',\n",
       "   '__name__',\n",
       "   '__package__',\n",
       "   '__spec__',\n",
       "   '_dh',\n",
       "   '_i',\n",
       "   '_i1',\n",
       "   '_i10',\n",
       "   '_i11',\n",
       "   '_i12',\n",
       "   '_i13',\n",
       "   '_i14',\n",
       "   '_i15',\n",
       "   '_i16',\n",
       "   '_i17',\n",
       "   '_i18',\n",
       "   '_i19',\n",
       "   '_i2',\n",
       "   '_i20',\n",
       "   '_i21',\n",
       "   '_i3',\n",
       "   '_i4',\n",
       "   '_i5',\n",
       "   '_i6',\n",
       "   '_i7',\n",
       "   '_i8',\n",
       "   '_i9',\n",
       "   '_ih',\n",
       "   '_ii',\n",
       "   '_iii',\n",
       "   '_oh',\n",
       "   'a',\n",
       "   'bar',\n",
       "   'exit',\n",
       "   'foo',\n",
       "   'get_ipython',\n",
       "   'quit',\n",
       "   's',\n",
       "   'x'],\n",
       "  37: <function globals()>,\n",
       "  38: {...}},\n",
       " 'get_ipython': <bound method InteractiveShell.get_ipython of <ipykernel.zmqshell.ZMQInteractiveShell object at 0x10a8416a0>>,\n",
       " 'exit': <IPython.core.autocall.ZMQExitAutocall at 0x10ad22c50>,\n",
       " 'quit': <IPython.core.autocall.ZMQExitAutocall at 0x10ad22c50>,\n",
       " '_': {...},\n",
       " '__': <function globals()>,\n",
       " '___': ['In',\n",
       "  'Out',\n",
       "  '_',\n",
       "  '_10',\n",
       "  '_15',\n",
       "  '_17',\n",
       "  '__',\n",
       "  '___',\n",
       "  '__builtin__',\n",
       "  '__builtins__',\n",
       "  '__doc__',\n",
       "  '__loader__',\n",
       "  '__name__',\n",
       "  '__package__',\n",
       "  '__spec__',\n",
       "  '_dh',\n",
       "  '_i',\n",
       "  '_i1',\n",
       "  '_i10',\n",
       "  '_i11',\n",
       "  '_i12',\n",
       "  '_i13',\n",
       "  '_i14',\n",
       "  '_i15',\n",
       "  '_i16',\n",
       "  '_i17',\n",
       "  '_i18',\n",
       "  '_i19',\n",
       "  '_i2',\n",
       "  '_i20',\n",
       "  '_i21',\n",
       "  '_i3',\n",
       "  '_i4',\n",
       "  '_i5',\n",
       "  '_i6',\n",
       "  '_i7',\n",
       "  '_i8',\n",
       "  '_i9',\n",
       "  '_ih',\n",
       "  '_ii',\n",
       "  '_iii',\n",
       "  '_oh',\n",
       "  'a',\n",
       "  'bar',\n",
       "  'exit',\n",
       "  'foo',\n",
       "  'get_ipython',\n",
       "  'quit',\n",
       "  's',\n",
       "  'x'],\n",
       " '_i': 'globals()',\n",
       " '_ii': 'globals',\n",
       " '_iii': 'x()',\n",
       " '_i1': 'def x(t):\\n    return t',\n",
       " 'x': <function __main__.x()>,\n",
       " '_i2': 'def x(t):\\n    return t()',\n",
       " '_i3': 'def x(1)',\n",
       " '_i4': 'def x(x)',\n",
       " '_i5': 'x()',\n",
       " '_i6': 'x(1)',\n",
       " '_i7': 'x(x)',\n",
       " '_i8': 'def s():\\n    return 1',\n",
       " 's': <function __main__.s()>,\n",
       " '_i9': 'def s():\\n    return 1',\n",
       " '_i10': 'x(s)',\n",
       " '_10': 1,\n",
       " '_i11': \"def foo():\\n    print('foo!')\",\n",
       " 'foo': <function __main__.foo()>,\n",
       " '_i12': 'def bar(fn):\\n    fn()',\n",
       " 'bar': <function __main__.bar(fn)>,\n",
       " '_i13': 'bar(foo)',\n",
       " '_i14': 'a = [dir, len]',\n",
       " 'a': [<function dir>, <function len(obj, /)>],\n",
       " '_i15': 'a[1]',\n",
       " '_15': <function len(obj, /)>,\n",
       " '_i16': 'a = [bar, len]',\n",
       " '_i17': 'a[1]',\n",
       " '_17': <function len(obj, /)>,\n",
       " '_i18': 'a[0]()',\n",
       " '_i19': 'a[0](foo)',\n",
       " '_i20': 'a = [dir, len]',\n",
       " '_i21': 'a[0]()',\n",
       " '_21': ['In',\n",
       "  'Out',\n",
       "  '_',\n",
       "  '_10',\n",
       "  '_15',\n",
       "  '_17',\n",
       "  '__',\n",
       "  '___',\n",
       "  '__builtin__',\n",
       "  '__builtins__',\n",
       "  '__doc__',\n",
       "  '__loader__',\n",
       "  '__name__',\n",
       "  '__package__',\n",
       "  '__spec__',\n",
       "  '_dh',\n",
       "  '_i',\n",
       "  '_i1',\n",
       "  '_i10',\n",
       "  '_i11',\n",
       "  '_i12',\n",
       "  '_i13',\n",
       "  '_i14',\n",
       "  '_i15',\n",
       "  '_i16',\n",
       "  '_i17',\n",
       "  '_i18',\n",
       "  '_i19',\n",
       "  '_i2',\n",
       "  '_i20',\n",
       "  '_i21',\n",
       "  '_i3',\n",
       "  '_i4',\n",
       "  '_i5',\n",
       "  '_i6',\n",
       "  '_i7',\n",
       "  '_i8',\n",
       "  '_i9',\n",
       "  '_ih',\n",
       "  '_ii',\n",
       "  '_iii',\n",
       "  '_oh',\n",
       "  'a',\n",
       "  'bar',\n",
       "  'exit',\n",
       "  'foo',\n",
       "  'get_ipython',\n",
       "  'quit',\n",
       "  's',\n",
       "  'x'],\n",
       " '_i22': \"def foo()\\n    def bar():\\n        print('bar!')\\n    bar()\",\n",
       " '_i23': \"def foo():\\n    def bar():\\n        print('bar!')\\n    bar()\",\n",
       " '_i24': 'foo()',\n",
       " '_i25': 'def x():\\n    def y():\\n        return t\\n    return y()',\n",
       " '_i26': 'x()',\n",
       " '_i27': 'def x():\\n    def y():\\n        print(t)\\n    return y()',\n",
       " '_i28': 'x()',\n",
       " '_i29': 'def x():\\n    def y():\\n        print(t)\\n        t = 1\\n    return y()',\n",
       " '_i30': 'x()',\n",
       " '_i31': 'def x():\\n    t = 1\\n    def y():\\n        print(t)\\n\\n    return y()',\n",
       " '_i32': 'x()',\n",
       " '_i33': 't = 1\\ndef x():\\n\\n    def y():\\n        print(t)\\n\\n    return y()',\n",
       " 't': 1,\n",
       " '_i34': 'x()',\n",
       " '_i35': '\\ndef x():\\n    def y():\\n        t = 1\\n        print(t)\\n\\n    return y()',\n",
       " '_i36': 'x()',\n",
       " '_i37': 'globals',\n",
       " '_37': <function globals()>,\n",
       " '_i38': 'globals()',\n",
       " '_38': {...},\n",
       " '_i39': 'locals()'}"
      ]
     },
     "execution_count": 39,
     "metadata": {},
     "output_type": "execute_result"
    }
   ],
   "source": [
    "locals()"
   ]
  },
  {
   "cell_type": "code",
   "execution_count": 40,
   "metadata": {},
   "outputs": [],
   "source": [
    "def a():\n",
    "    def b():\n",
    "        a = 1\n",
    "        print(b)\n",
    "        b = 2\n",
    "        print(locals())\n",
    "    return b()"
   ]
  },
  {
   "cell_type": "code",
   "execution_count": 41,
   "metadata": {},
   "outputs": [
    {
     "ename": "UnboundLocalError",
     "evalue": "local variable 'b' referenced before assignment",
     "output_type": "error",
     "traceback": [
      "\u001b[0;31m---------------------------------------------------------------------------\u001b[0m",
      "\u001b[0;31mUnboundLocalError\u001b[0m                         Traceback (most recent call last)",
      "\u001b[0;32m<ipython-input-41-8d7b4527e81d>\u001b[0m in \u001b[0;36m<module>\u001b[0;34m\u001b[0m\n\u001b[0;32m----> 1\u001b[0;31m \u001b[0ma\u001b[0m\u001b[0;34m(\u001b[0m\u001b[0;34m)\u001b[0m\u001b[0;34m\u001b[0m\u001b[0;34m\u001b[0m\u001b[0m\n\u001b[0m",
      "\u001b[0;32m<ipython-input-40-bcd04ff84a88>\u001b[0m in \u001b[0;36ma\u001b[0;34m()\u001b[0m\n\u001b[1;32m      5\u001b[0m         \u001b[0mb\u001b[0m \u001b[0;34m=\u001b[0m \u001b[0;36m2\u001b[0m\u001b[0;34m\u001b[0m\u001b[0;34m\u001b[0m\u001b[0m\n\u001b[1;32m      6\u001b[0m         \u001b[0mprint\u001b[0m\u001b[0;34m(\u001b[0m\u001b[0mlocals\u001b[0m\u001b[0;34m(\u001b[0m\u001b[0;34m)\u001b[0m\u001b[0;34m)\u001b[0m\u001b[0;34m\u001b[0m\u001b[0;34m\u001b[0m\u001b[0m\n\u001b[0;32m----> 7\u001b[0;31m     \u001b[0;32mreturn\u001b[0m \u001b[0mb\u001b[0m\u001b[0;34m(\u001b[0m\u001b[0;34m)\u001b[0m\u001b[0;34m\u001b[0m\u001b[0;34m\u001b[0m\u001b[0m\n\u001b[0m",
      "\u001b[0;32m<ipython-input-40-bcd04ff84a88>\u001b[0m in \u001b[0;36mb\u001b[0;34m()\u001b[0m\n\u001b[1;32m      2\u001b[0m     \u001b[0;32mdef\u001b[0m \u001b[0mb\u001b[0m\u001b[0;34m(\u001b[0m\u001b[0;34m)\u001b[0m\u001b[0;34m:\u001b[0m\u001b[0;34m\u001b[0m\u001b[0;34m\u001b[0m\u001b[0m\n\u001b[1;32m      3\u001b[0m         \u001b[0ma\u001b[0m \u001b[0;34m=\u001b[0m \u001b[0;36m1\u001b[0m\u001b[0;34m\u001b[0m\u001b[0;34m\u001b[0m\u001b[0m\n\u001b[0;32m----> 4\u001b[0;31m         \u001b[0mprint\u001b[0m\u001b[0;34m(\u001b[0m\u001b[0mb\u001b[0m\u001b[0;34m)\u001b[0m\u001b[0;34m\u001b[0m\u001b[0;34m\u001b[0m\u001b[0m\n\u001b[0m\u001b[1;32m      5\u001b[0m         \u001b[0mb\u001b[0m \u001b[0;34m=\u001b[0m \u001b[0;36m2\u001b[0m\u001b[0;34m\u001b[0m\u001b[0;34m\u001b[0m\u001b[0m\n\u001b[1;32m      6\u001b[0m         \u001b[0mprint\u001b[0m\u001b[0;34m(\u001b[0m\u001b[0mlocals\u001b[0m\u001b[0;34m(\u001b[0m\u001b[0;34m)\u001b[0m\u001b[0;34m)\u001b[0m\u001b[0;34m\u001b[0m\u001b[0;34m\u001b[0m\u001b[0m\n",
      "\u001b[0;31mUnboundLocalError\u001b[0m: local variable 'b' referenced before assignment"
     ]
    }
   ],
   "source": [
    "a()"
   ]
  },
  {
   "cell_type": "markdown",
   "metadata": {},
   "source": [
    "UnboundLocalError : 선언은 되어있지만 실행할 때 값 할당이 안되어있기 때문에 언바운드 에러가 남!"
   ]
  },
  {
   "cell_type": "markdown",
   "metadata": {},
   "source": [
    "# Decorator"
   ]
  },
  {
   "cell_type": "code",
   "execution_count": 49,
   "metadata": {},
   "outputs": [],
   "source": [
    "def foo(fn):\n",
    "    def inner():\n",
    "        print('About to call function.')\n",
    "        fn()\n",
    "        print('Finished calling function.')\n",
    "    return inner\n",
    "@foo # 밑에 함수를 실행시키면 foo함수에 bar 함수가 들어가서 실행하게 됨\n",
    "def bar():\n",
    "    print('Calling function bar.')"
   ]
  },
  {
   "cell_type": "code",
   "execution_count": 48,
   "metadata": {},
   "outputs": [
    {
     "name": "stdout",
     "output_type": "stream",
     "text": [
      "About to call function.\n",
      "Calling function bar.\n",
      "Finished calling function.\n"
     ]
    }
   ],
   "source": [
    "bar()"
   ]
  },
  {
   "cell_type": "code",
   "execution_count": 72,
   "metadata": {},
   "outputs": [],
   "source": [
    "def x(f):\n",
    "    def y(t):\n",
    "        print('데코레이터')\n",
    "        return f((t/3)*4)\n",
    "    return y"
   ]
  },
  {
   "cell_type": "code",
   "execution_count": 73,
   "metadata": {},
   "outputs": [
    {
     "name": "stdout",
     "output_type": "stream",
     "text": [
      "데코레이터\n"
     ]
    },
    {
     "data": {
      "text/plain": [
       "3.6666666666666665"
      ]
     },
     "execution_count": 73,
     "metadata": {},
     "output_type": "execute_result"
    }
   ],
   "source": [
    "x(lambda y:y+1)(2)"
   ]
  },
  {
   "cell_type": "code",
   "execution_count": 76,
   "metadata": {},
   "outputs": [],
   "source": [
    "@x\n",
    "def s(t):\n",
    "    return t*3"
   ]
  },
  {
   "cell_type": "code",
   "execution_count": 77,
   "metadata": {},
   "outputs": [
    {
     "name": "stdout",
     "output_type": "stream",
     "text": [
      "데코레이터\n"
     ]
    },
    {
     "data": {
      "text/plain": [
       "12.0"
      ]
     },
     "execution_count": 77,
     "metadata": {},
     "output_type": "execute_result"
    }
   ],
   "source": [
    "s(3)"
   ]
  },
  {
   "cell_type": "markdown",
   "metadata": {},
   "source": [
    "### 데코레이터 : 기능을 확장할 수 있음\n",
    "\n",
    "- 인자를 함수로 받음"
   ]
  },
  {
   "cell_type": "code",
   "execution_count": 82,
   "metadata": {},
   "outputs": [],
   "source": [
    "def x(f):\n",
    "    def y(*t):\n",
    "        t = f((t/3)*4)\n",
    "        return t\n",
    "    return y"
   ]
  },
  {
   "cell_type": "code",
   "execution_count": 83,
   "metadata": {},
   "outputs": [],
   "source": [
    "@x\n",
    "def s(t):\n",
    "    return t*3"
   ]
  },
  {
   "cell_type": "code",
   "execution_count": 84,
   "metadata": {},
   "outputs": [
    {
     "ename": "TypeError",
     "evalue": "unsupported operand type(s) for /: 'tuple' and 'int'",
     "output_type": "error",
     "traceback": [
      "\u001b[0;31m---------------------------------------------------------------------------\u001b[0m",
      "\u001b[0;31mTypeError\u001b[0m                                 Traceback (most recent call last)",
      "\u001b[0;32m<ipython-input-84-8155bd444ef3>\u001b[0m in \u001b[0;36m<module>\u001b[0;34m\u001b[0m\n\u001b[0;32m----> 1\u001b[0;31m \u001b[0ms\u001b[0m\u001b[0;34m(\u001b[0m\u001b[0;36m3\u001b[0m\u001b[0;34m)\u001b[0m\u001b[0;34m\u001b[0m\u001b[0;34m\u001b[0m\u001b[0m\n\u001b[0m",
      "\u001b[0;32m<ipython-input-82-f7f5b9158c69>\u001b[0m in \u001b[0;36my\u001b[0;34m(*t)\u001b[0m\n\u001b[1;32m      1\u001b[0m \u001b[0;32mdef\u001b[0m \u001b[0mx\u001b[0m\u001b[0;34m(\u001b[0m\u001b[0mf\u001b[0m\u001b[0;34m)\u001b[0m\u001b[0;34m:\u001b[0m\u001b[0;34m\u001b[0m\u001b[0;34m\u001b[0m\u001b[0m\n\u001b[1;32m      2\u001b[0m     \u001b[0;32mdef\u001b[0m \u001b[0my\u001b[0m\u001b[0;34m(\u001b[0m\u001b[0;34m*\u001b[0m\u001b[0mt\u001b[0m\u001b[0;34m)\u001b[0m\u001b[0;34m:\u001b[0m\u001b[0;34m\u001b[0m\u001b[0;34m\u001b[0m\u001b[0m\n\u001b[0;32m----> 3\u001b[0;31m         \u001b[0mt\u001b[0m \u001b[0;34m=\u001b[0m \u001b[0mf\u001b[0m\u001b[0;34m(\u001b[0m\u001b[0;34m(\u001b[0m\u001b[0mt\u001b[0m\u001b[0;34m/\u001b[0m\u001b[0;36m3\u001b[0m\u001b[0;34m)\u001b[0m\u001b[0;34m*\u001b[0m\u001b[0;36m4\u001b[0m\u001b[0;34m)\u001b[0m\u001b[0;34m\u001b[0m\u001b[0;34m\u001b[0m\u001b[0m\n\u001b[0m\u001b[1;32m      4\u001b[0m         \u001b[0;32mreturn\u001b[0m \u001b[0mt\u001b[0m\u001b[0;34m\u001b[0m\u001b[0;34m\u001b[0m\u001b[0m\n\u001b[1;32m      5\u001b[0m     \u001b[0;32mreturn\u001b[0m \u001b[0my\u001b[0m\u001b[0;34m\u001b[0m\u001b[0;34m\u001b[0m\u001b[0m\n",
      "\u001b[0;31mTypeError\u001b[0m: unsupported operand type(s) for /: 'tuple' and 'int'"
     ]
    }
   ],
   "source": [
    "s(3)"
   ]
  },
  {
   "cell_type": "code",
   "execution_count": 85,
   "metadata": {},
   "outputs": [],
   "source": [
    "def wrapper(fn):\n",
    "#     @functools.wraps(fn)\n",
    "    def inner(*args, **kwargs):\n",
    "        return fn(*args, **kwargs)\n",
    "    return inner"
   ]
  },
  {
   "cell_type": "code",
   "execution_count": 86,
   "metadata": {},
   "outputs": [],
   "source": [
    "def x():\n",
    "    print('a')"
   ]
  },
  {
   "cell_type": "code",
   "execution_count": 89,
   "metadata": {},
   "outputs": [
    {
     "data": {
      "text/plain": [
       "<function __main__.wrapper.<locals>.inner(*args, **kwargs)>"
      ]
     },
     "execution_count": 89,
     "metadata": {},
     "output_type": "execute_result"
    }
   ],
   "source": [
    "wrapper(x)"
   ]
  },
  {
   "cell_type": "code",
   "execution_count": 90,
   "metadata": {},
   "outputs": [],
   "source": [
    "#__main__ : 현재 작업하고 있는 파일 . wrapper . <locals> . inner 라는 함수()"
   ]
  },
  {
   "cell_type": "code",
   "execution_count": 91,
   "metadata": {},
   "outputs": [],
   "source": [
    "import functools"
   ]
  },
  {
   "cell_type": "code",
   "execution_count": 95,
   "metadata": {},
   "outputs": [],
   "source": [
    "def wrapper(fn):\n",
    "    @functools.wraps(fn)\n",
    "    def inner(*args, **kwargs):\n",
    "        return fn(*args, **kwargs)\n",
    "    return inner"
   ]
  },
  {
   "cell_type": "code",
   "execution_count": 96,
   "metadata": {},
   "outputs": [
    {
     "data": {
      "text/plain": [
       "<function __main__.x()>"
      ]
     },
     "execution_count": 96,
     "metadata": {},
     "output_type": "execute_result"
    }
   ],
   "source": [
    "wrapper(x)"
   ]
  },
  {
   "cell_type": "code",
   "execution_count": 97,
   "metadata": {},
   "outputs": [
    {
     "data": {
      "text/plain": [
       "'x'"
      ]
     },
     "execution_count": 97,
     "metadata": {},
     "output_type": "execute_result"
    }
   ],
   "source": [
    "wrapper(x).__name__"
   ]
  },
  {
   "cell_type": "code",
   "execution_count": 117,
   "metadata": {},
   "outputs": [],
   "source": [
    "def wrapper(fn):\n",
    "    def inner():\n",
    "        print('------------')\n",
    "        return fn\n",
    "    return inner"
   ]
  },
  {
   "cell_type": "code",
   "execution_count": 112,
   "metadata": {},
   "outputs": [],
   "source": [
    "@wrapper\n",
    "def x():\n",
    "    print('a')"
   ]
  },
  {
   "cell_type": "code",
   "execution_count": 114,
   "metadata": {},
   "outputs": [
    {
     "name": "stdout",
     "output_type": "stream",
     "text": [
      "------------\n",
      "a\n"
     ]
    }
   ],
   "source": [
    "x()()"
   ]
  },
  {
   "cell_type": "code",
   "execution_count": 125,
   "metadata": {},
   "outputs": [],
   "source": [
    "def wrapper2(fn):\n",
    "    def inner(t):\n",
    "        print('------------')\n",
    "        return fn\n",
    "    return inner"
   ]
  },
  {
   "cell_type": "code",
   "execution_count": 126,
   "metadata": {},
   "outputs": [],
   "source": [
    "@wrapper2\n",
    "def x2(a):\n",
    "    print(a)"
   ]
  },
  {
   "cell_type": "code",
   "execution_count": 130,
   "metadata": {},
   "outputs": [
    {
     "name": "stdout",
     "output_type": "stream",
     "text": [
      "------------\n",
      "6\n"
     ]
    }
   ],
   "source": [
    "x2(4)(6)"
   ]
  },
  {
   "cell_type": "code",
   "execution_count": 134,
   "metadata": {},
   "outputs": [
    {
     "name": "stdout",
     "output_type": "stream",
     "text": [
      "------------\n",
      "------------\n"
     ]
    },
    {
     "data": {
      "text/plain": [
       "<function __main__.x2(a)>"
      ]
     },
     "execution_count": 134,
     "metadata": {},
     "output_type": "execute_result"
    }
   ],
   "source": [
    "wrapper2(x2)(4)(8)"
   ]
  },
  {
   "cell_type": "code",
   "execution_count": 135,
   "metadata": {},
   "outputs": [],
   "source": [
    "def print_num(n):\n",
    "    def decorator(fn):\n",
    "        @functools.wraps(fn)\n",
    "        def inner(*args, **kwargs):\n",
    "            print(n)\n",
    "            return fn(*args, **kwargs)\n",
    "        return inner\n",
    "    return decorator"
   ]
  },
  {
   "cell_type": "code",
   "execution_count": 136,
   "metadata": {},
   "outputs": [],
   "source": [
    "#foo = print_num(4)(foo)"
   ]
  },
  {
   "cell_type": "code",
   "execution_count": 137,
   "metadata": {},
   "outputs": [],
   "source": [
    "import time\n",
    "\n",
    "def timeit(fn):\n",
    "    @functools.wraps(fn)\n",
    "    def inner(*args, **kwargs):\n",
    "        start_time = time.time()\n",
    "        retval = fn(*args, **kwargs)\n",
    "        duration = time.time() - start_time\n",
    "        print(\"%s : %2.2f sec\" % (fn.__name__,duration) )\n",
    "        return retval\n",
    "    return inner"
   ]
  },
  {
   "cell_type": "code",
   "execution_count": 171,
   "metadata": {},
   "outputs": [],
   "source": [
    "import functools\n",
    "\n",
    "import time\n",
    "\n",
    "def wrapper(fn):\n",
    "    @functools.wraps(fn) #디버깅 할 때 필요\n",
    "    \n",
    "    def inner(*args,**kwargs):\n",
    "        start = time.time()\n",
    "        fn(*args,**kwargs)\n",
    "        end = time.time()\n",
    "        print(end - start)\n",
    "        return  fn(*args,**kwargs) # 함수까지 실행하고 싶을 때 리턴을 함수로 함\n",
    "    return inner"
   ]
  },
  {
   "cell_type": "code",
   "execution_count": 168,
   "metadata": {},
   "outputs": [],
   "source": [
    "@wrapper\n",
    "def x():\n",
    "    for i in range(100):\n",
    "        print(i)"
   ]
  },
  {
   "cell_type": "code",
   "execution_count": 170,
   "metadata": {},
   "outputs": [
    {
     "name": "stdout",
     "output_type": "stream",
     "text": [
      "0\n",
      "1\n",
      "2\n",
      "3\n",
      "4\n",
      "5\n",
      "6\n",
      "7\n",
      "8\n",
      "9\n",
      "10\n",
      "11\n",
      "12\n",
      "13\n",
      "14\n",
      "15\n",
      "16\n",
      "17\n",
      "18\n",
      "19\n",
      "20\n",
      "21\n",
      "22\n",
      "23\n",
      "24\n",
      "25\n",
      "26\n",
      "27\n",
      "28\n",
      "29\n",
      "30\n",
      "31\n",
      "32\n",
      "33\n",
      "34\n",
      "35\n",
      "36\n",
      "37\n",
      "38\n",
      "39\n",
      "40\n",
      "41\n",
      "42\n",
      "43\n",
      "44\n",
      "45\n",
      "46\n",
      "47\n",
      "48\n",
      "49\n",
      "50\n",
      "51\n",
      "52\n",
      "53\n",
      "54\n",
      "55\n",
      "56\n",
      "57\n",
      "58\n",
      "59\n",
      "60\n",
      "61\n",
      "62\n",
      "63\n",
      "64\n",
      "65\n",
      "66\n",
      "67\n",
      "68\n",
      "69\n",
      "70\n",
      "71\n",
      "72\n",
      "73\n",
      "74\n",
      "75\n",
      "76\n",
      "77\n",
      "78\n",
      "79\n",
      "80\n",
      "81\n",
      "82\n",
      "83\n",
      "84\n",
      "85\n",
      "86\n",
      "87\n",
      "88\n",
      "89\n",
      "90\n",
      "91\n",
      "92\n",
      "93\n",
      "94\n",
      "95\n",
      "96\n",
      "97\n",
      "98\n",
      "99\n",
      "0.0026421546936035156\n",
      "0\n",
      "1\n",
      "2\n",
      "3\n",
      "4\n",
      "5\n",
      "6\n",
      "7\n",
      "8\n",
      "9\n",
      "10\n",
      "11\n",
      "12\n",
      "13\n",
      "14\n",
      "15\n",
      "16\n",
      "17\n",
      "18\n",
      "19\n",
      "20\n",
      "21\n",
      "22\n",
      "23\n",
      "24\n",
      "25\n",
      "26\n",
      "27\n",
      "28\n",
      "29\n",
      "30\n",
      "31\n",
      "32\n",
      "33\n",
      "34\n",
      "35\n",
      "36\n",
      "37\n",
      "38\n",
      "39\n",
      "40\n",
      "41\n",
      "42\n",
      "43\n",
      "44\n",
      "45\n",
      "46\n",
      "47\n",
      "48\n",
      "49\n",
      "50\n",
      "51\n",
      "52\n",
      "53\n",
      "54\n",
      "55\n",
      "56\n",
      "57\n",
      "58\n",
      "59\n",
      "60\n",
      "61\n",
      "62\n",
      "63\n",
      "64\n",
      "65\n",
      "66\n",
      "67\n",
      "68\n",
      "69\n",
      "70\n",
      "71\n",
      "72\n",
      "73\n",
      "74\n",
      "75\n",
      "76\n",
      "77\n",
      "78\n",
      "79\n",
      "80\n",
      "81\n",
      "82\n",
      "83\n",
      "84\n",
      "85\n",
      "86\n",
      "87\n",
      "88\n",
      "89\n",
      "90\n",
      "91\n",
      "92\n",
      "93\n",
      "94\n",
      "95\n",
      "96\n",
      "97\n",
      "98\n",
      "99\n"
     ]
    }
   ],
   "source": [
    "x()"
   ]
  },
  {
   "cell_type": "code",
   "execution_count": 174,
   "metadata": {},
   "outputs": [],
   "source": [
    "@wrapper\n",
    "def x(t):\n",
    "    return sum(t)"
   ]
  },
  {
   "cell_type": "code",
   "execution_count": 175,
   "metadata": {},
   "outputs": [
    {
     "name": "stdout",
     "output_type": "stream",
     "text": [
      "2.86102294921875e-06\n",
      "0.0001838207244873047\n",
      "9.5367431640625e-07\n"
     ]
    },
    {
     "data": {
      "text/plain": [
       "4950"
      ]
     },
     "execution_count": 175,
     "metadata": {},
     "output_type": "execute_result"
    }
   ],
   "source": [
    "wrapper(x)(range(100))"
   ]
  }
 ],
 "metadata": {
  "kernelspec": {
   "display_name": "Python 3",
   "language": "python",
   "name": "python3"
  },
  "language_info": {
   "codemirror_mode": {
    "name": "ipython",
    "version": 3
   },
   "file_extension": ".py",
   "mimetype": "text/x-python",
   "name": "python",
   "nbconvert_exporter": "python",
   "pygments_lexer": "ipython3",
   "version": "3.7.3"
  }
 },
 "nbformat": 4,
 "nbformat_minor": 2
}
